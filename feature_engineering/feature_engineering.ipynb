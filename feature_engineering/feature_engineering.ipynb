{
 "cells": [
  {
   "cell_type": "code",
   "execution_count": 1,
   "metadata": {
    "collapsed": true,
    "pycharm": {
     "is_executing": false
    }
   },
   "outputs": [],
   "source": [
    "from sklearn import preprocessing\n",
    "from sklearn.decomposition import PCA\n",
    "from db.mysql import Engine\n",
    "import pandas as pd\n",
    "import matplotlib.pyplot as plt\n",
    "import numpy as np\n",
    "\n",
    "db_conn = Engine.get_db_conn()"
   ]
  },
  {
   "cell_type": "code",
   "execution_count": 3,
   "outputs": [
    {
     "name": "stdout",
     "text": [
      "(590540, 369)\n(506691, 368)\n"
     ],
     "output_type": "stream"
    }
   ],
   "source": [
    "# train = pd.read_sql('train_cleaned', db_conn)\n",
    "# test = pd.read_sql('test_cleaned', db_conn)\n",
    "\n",
    "train = pd.read_csv('train_cleaned.csv')\n",
    "test = pd.read_csv('test_cleaned.csv')\n",
    "\n",
    "print(train.shape)\n",
    "print(test.shape)"
   ],
   "metadata": {
    "collapsed": false,
    "pycharm": {
     "name": "#%%\n",
     "is_executing": false
    }
   }
  },
  {
   "cell_type": "code",
   "execution_count": 4,
   "outputs": [
    {
     "data": {
      "text/plain": "<Figure size 1080x360 with 1 Axes>",
      "image/png": "[encoded data removed]"
     },
     "metadata": {
      "needs_background": "light"
     },
     "output_type": "display_data"
    },
    {
     "name": "stdout",
     "text": [
      "Total span of the records is 394.99936342592594\nTotal span of the train records is 181.99920138888888\nTotal span of the test records is 182.99908564814814\n"
     ],
     "output_type": "stream"
    }
   ],
   "source": [
    "# Lets check the distribution of given train and test data\n",
    "train['TransactionDT'].plot(kind='hist',figsize=(15, 5),label='train', bins=50,\n",
    "                                        title='Train vs Test TransactionDT')\n",
    "test['TransactionDT'].plot(kind='hist',label='test', bins=50)\n",
    "plt.legend()\n",
    "plt.show()\n",
    "# We can see above that the test data doesn't have overlap with train data. So we may need to use\n",
    "# time based spit for validation\n",
    "\n",
    "trainDT_min = train['TransactionDT'].values.min()\n",
    "trainDT_max = train['TransactionDT'].values.max()\n",
    "\n",
    "testDT_min = test['TransactionDT'].values.min()\n",
    "testDT_max = test['TransactionDT'].values.max()\n",
    "\n",
    "print('Total span of the records is {}'.format((testDT_max - trainDT_min)/(24 * 60 * 60)))\n",
    "print('Total span of the train records is {}'.format((trainDT_max - trainDT_min)/(24 * 60 * 60)))\n",
    "print('Total span of the test records is {}'.format((testDT_max - testDT_min)/(24 * 60 * 60)))"
   ],
   "metadata": {
    "collapsed": false,
    "pycharm": {
     "name": "#%%\n",
     "is_executing": false
    }
   }
  },
  {
   "cell_type": "code",
   "execution_count": 5,
   "metadata": {
    "pycharm": {
     "is_executing": false,
     "name": "#%%\n"
    }
   },
   "outputs": [
    {
     "name": "stdout",
     "text": [
      "(590540, 397)\n(506691, 396)\n"
     ],
     "output_type": "stream"
    }
   ],
   "source": [
    "# Lets try to extract new features for card features as they are categorical\n",
    "# We can use transform in conjunction with groupby. The data point we would to like capture here answer the following question.\n",
    "# \"What percentage of TransactionAmount mean per category does each card feature represent?\" \n",
    "for col in ['card1','card2','card4','card5','card6']:\n",
    "    train['TransactionAmt_mean_to_'+str(col)]=(train['TransactionAmt']/train.groupby(col)['TransactionAmt'].transform('mean'))\n",
    "    train['TransactionAmt_std_to_'+str(col)]=(train['TransactionAmt']/train.groupby(col)['TransactionAmt'].transform('std'))\n",
    "    test['TransactionAmt_mean_to_'+str(col)]=(test['TransactionAmt']/test.groupby(col)['TransactionAmt'].transform('mean'))\n",
    "    test['TransactionAmt_std_to_'+str(col)]=(test['TransactionAmt']/test.groupby(col)['TransactionAmt'].transform('std'))\n",
    "\n",
    "# We can perform similar feature engineering on other categorical columns like \n",
    "for col in ['ProductCD', 'P_emaildomain','R_emaildomain','DeviceType','DeviceInfo','id_15','id_30','id_31','id_34']:\n",
    "    train['TransactionAmt_mean_to_'+str(col)]=(train['TransactionAmt']/train.groupby(col)['TransactionAmt'].transform('mean'))\n",
    "    train['TransactionAmt_std_to_'+str(col)]=(train['TransactionAmt']/train.groupby(col)['TransactionAmt'].transform('std'))\n",
    "    test['TransactionAmt_mean_to_'+str(col)]=(test['TransactionAmt']/test.groupby(col)['TransactionAmt'].transform('mean'))\n",
    "    test['TransactionAmt_std_to_'+str(col)]=(test['TransactionAmt']/test.groupby(col)['TransactionAmt'].transform('std'))\n",
    "\n",
    "print(train.shape)\n",
    "print(test.shape)"
   ]
  },
  {
   "cell_type": "code",
   "execution_count": 6,
   "metadata": {
    "pycharm": {
     "is_executing": false,
     "name": "#%%\n"
    }
   },
   "outputs": [
    {
     "name": "stdout",
     "text": [
      "<class 'pandas.core.frame.DataFrame'>\nRangeIndex: 590540 entries, 0 to 590539\nColumns: 397 entries, TransactionID to TransactionAmt_std_to_id_34\ndtypes: float64(364), int64(4), object(29)\nmemory usage: 1.7+ GB\nNone\n"
     ],
     "output_type": "stream"
    }
   ],
   "source": [
    "# Lets check how many categorical attributes exist\n",
    "print(train.info())\n",
    "\n",
    "# Lets fill all missing values with Nan\n",
    "train.fillna(value=pd.np.nan, inplace=True)\n",
    "test.fillna(value=pd.np.nan, inplace=True)\n",
    "\n",
    "train['P_emaildomain'] = train['P_emaildomain'].str.split(\".\").str.get(0)\n",
    "test['P_emaildomain'] = test['P_emaildomain'].str.split(\".\").str.get(0)\n",
    "train['P_emaildomain'] = train['P_emaildomain'].str.split(\".\").str.get(0)\n",
    "test['R_emaildomain'] = test['R_emaildomain'].str.split(\".\").str.get(0)"
   ]
  },
  {
   "cell_type": "code",
   "execution_count": 7,
   "metadata": {
    "pycharm": {
     "is_executing": false,
     "name": "#%%\n"
    }
   },
   "outputs": [],
   "source": [
    "# From Info we can see that there are 29 Categorical columns\n",
    "# Lets use LabelEncoder to convert them into numeric columns\n",
    "# Label Encoding\n",
    "from sklearn  import preprocessing\n",
    "import numpy as np \n",
    "\n",
    "# Lets try to see the value counts of each category variable\n",
    "# for col in train.columns:\n",
    "#     if train[col].dtype == 'object':\n",
    "#         print(train[col].value_counts())\n",
    "        \n",
    "for col in train.columns:\n",
    "    if train[col].dtype == 'object':\n",
    "        lbe = preprocessing.LabelEncoder()\n",
    "        lbe.fit(list(train[col].values) + list(test[col].values))\n",
    "        train[col] =lbe.transform(list(train[col].values))\n",
    "        test[col]=lbe.transform(list(test[col].values))\n",
    "\n",
    "def replace_inf_with_nan(df):\n",
    "    return df.replace([np.inf, -np.inf], np.nan)   \n",
    "\n",
    "train = replace_inf_with_nan(train)\n",
    "test = replace_inf_with_nan(test) "
   ]
  },
  {
   "cell_type": "code",
   "execution_count": 8,
   "metadata": {
    "pycharm": {
     "is_executing": false,
     "name": "#%%\n"
    }
   },
   "outputs": [
    {
     "name": "stdout",
     "text": [
      "0\n",
      "0\n"
     ],
     "output_type": "stream"
    }
   ],
   "source": [
    "# Lets impute all other column missing values with the median of that columns. \n",
    "# We haven't considered mean, because it sensitive to outliers.\n",
    "\n",
    "for col in train.columns:\n",
    "    train[col].fillna(train[col].median(),inplace=True) # fill with median because mean may be affect by outliers.\n",
    "\n",
    "for col in test.columns:\n",
    "    test[col].fillna(test[col].median(),inplace=True)\n",
    "\n",
    "# Lets finally check the sum of nan/missing values should be zero\n",
    "print(train.isnull().sum().sum())\n",
    "print(test.isnull().sum().sum())"
   ]
  },
  {
   "cell_type": "code",
   "execution_count": 9,
   "metadata": {
    "pycharm": {
     "is_executing": false,
     "name": "#%%\n"
    }
   },
   "outputs": [
    {
     "name": "stdout",
     "text": [
      "Saved to Db\n"
     ],
     "output_type": "stream"
    }
   ],
   "source": [
    "# Save the final dataset to Database\n",
    "db_conn = Engine.get_db_conn()\n",
    "# train.to_sql('train_final', db_conn, index=False)\n",
    "# test.to_sql('test_final', db_conn, index=False)\n",
    "train.to_csv('train_final.csv', index=False)\n",
    "test.to_csv('test_final.csv', index=False)\n",
    "print(\"Saved to Db\")\n",
    "# train.to_csv('CreditCardAutoML.csv', index=False)"
   ]
  },
  {
   "cell_type": "code",
   "execution_count": 10,
   "metadata": {
    "pycharm": {
     "is_executing": false,
     "name": "#%%\n"
    }
   },
   "outputs": [
    {
     "name": "stdout",
     "text": [
      "(590540, 396)\n",
      "   TransactionAmt  ProductCD  card1  card2  card3  card4  card5  card6  addr1  \\\n0            68.5          4  13926  361.0  150.0      1  142.0      1  315.0   \n1            29.0          4   2755  404.0  150.0      2  102.0      1  325.0   \n2            59.0          4   4663  490.0  150.0      4  166.0      2  330.0   \n3            50.0          4  18132  567.0  150.0      2  117.0      2  476.0   \n4            50.0          1   4497  514.0  150.0      2  102.0      1  420.0   \n\n   addr2  ...  TransactionAmt_mean_to_DeviceInfo  \\\n0   87.0  ...                           0.769886   \n1   87.0  ...                           0.769886   \n2   87.0  ...                           0.769886   \n3   87.0  ...                           0.769886   \n4   87.0  ...                           0.362903   \n\n   TransactionAmt_std_to_DeviceInfo  TransactionAmt_mean_to_id_15  \\\n0                          0.738306                      0.603859   \n1                          0.738306                      0.603859   \n2                          0.738306                      0.603859   \n3                          0.738306                      0.603859   \n4                          0.627730                      0.603859   \n\n   TransactionAmt_std_to_id_15  TransactionAmt_mean_to_id_30  \\\n0                     0.566556                      0.799669   \n1                     0.566556                      0.799669   \n2                     0.566556                      0.799669   \n3                     0.566556                      0.799669   \n4                     0.566556                      0.522486   \n\n   TransactionAmt_std_to_id_30  TransactionAmt_mean_to_id_31  \\\n0                     0.769002                      0.660606   \n1                     0.769002                      0.660606   \n2                     0.769002                      0.660606   \n3                     0.769002                      0.660606   \n4                     0.595310                      0.725000   \n\n   TransactionAmt_std_to_id_31  TransactionAmt_mean_to_id_34  \\\n0                     0.599887                        0.8714   \n1                     0.599887                        0.8714   \n2                     0.599887                        0.8714   \n3                     0.599887                        0.8714   \n4                     0.726729                        0.4357   \n\n   TransactionAmt_std_to_id_34  \n0                     0.821545  \n1                     0.821545  \n2                     0.821545  \n3                     0.821545  \n4                     0.410772  \n\n[5 rows x 394 columns]\n",
      "[6.66247365e-01 3.11602635e-01 1.76685212e-02 2.44055431e-03\n 6.05469385e-04 3.45528449e-04 2.64976867e-04 2.49888540e-04\n 1.82539455e-04 8.46492629e-05]\n<bound method NDFrame.head of         isFraud            p1             p2           p3           p4  \\\n0             0 -11085.287228   -7524.669139  -779.903606 -4046.610858   \n1             0 -11084.311447   -7526.290846 -1131.026253  7119.607950   \n2             0 -11084.373571   -7526.088283 -1089.763216  5212.154887   \n3             0 -11108.066096   -7530.848038  1166.525629 -8220.859676   \n4             0 -79742.515128  157814.894510 -1309.575061  5397.618031   \n...         ...           ...            ...          ...          ...   \n590535        0 -11084.646818   -7525.799343 -1017.232575  3326.330318   \n590536        0 -11084.074849   -7524.899344  -964.009587  -567.195405   \n590537        0 -11084.011026   -7524.581349  -929.230611 -2159.818325   \n590538        0 -11108.751197   -7533.071454   983.608977  2080.999016   \n590539        0 -11088.767685   -7525.475479  -464.885347 -5180.172259   \n\n                 p5           p6          p7           p8           p9  \\\n0        -15.471526    -0.962595 -128.392858   -52.069586    -8.517079   \n1        -44.340381    72.693600 -109.133832   -38.540932   -74.592192   \n2        -51.980201    74.658490 -118.683191   -41.745956   -73.036671   \n3       1259.932257 -1177.091810  588.415770   -34.976519   327.384359   \n4          0.365607   408.742050 -515.191919  6824.591363   563.723295   \n...             ...          ...         ...          ...          ...   \n590535   -38.402189    56.338776 -111.661128   -42.577494   -65.538537   \n590536   -80.094081    86.052414 -147.646730   -47.104727   -68.586746   \n590537   -87.645589    88.958462 -155.163324   -48.484394   -67.295117   \n590538  1562.124299 -1858.245933  712.355595   -81.707717  1622.097209   \n590539   141.199331   123.875247 -108.289068   -70.377610   -46.650496   \n\n               p10  \n0       -86.515352  \n1      -114.422105  \n2      -105.206508  \n3       460.437947  \n4       414.792563  \n...            ...  \n590535  -78.252493  \n590536 -100.091837  \n590537  -98.114206  \n590538   76.058796  \n590539  183.978549  \n\n[590540 rows x 11 columns]>\n"
     ],
     "output_type": "stream"
    }
   ],
   "source": [
    "# Lets run PCA and see the variation among components\n",
    "from sklearn.decomposition import PCA\n",
    "from sklearn.preprocessing import StandardScaler\n",
    "y = train['isFraud']\n",
    "X = train.drop(['isFraud'], axis=1)\n",
    "print(X.shape)\n",
    "# print(X.head())\n",
    "\n",
    "# Drop TransactionID and TransactionDT from X\n",
    "X.drop(['TransactionID', 'TransactionDT'], axis=1, inplace=True)\n",
    "\n",
    "scaler = StandardScaler()\n",
    "scaler.fit_transform(X)\n",
    "\n",
    "print(X.head())\n",
    "\n",
    "pca = PCA(n_components=10)\n",
    "X_std_pca = pca.fit_transform(X)\n",
    "print(pca.explained_variance_ratio_)\n",
    "\n",
    "df_pca = pd.DataFrame(X_std_pca, columns=['p1', 'p2', 'p3', 'p4', 'p5', 'p6', 'p7', 'p8', 'p9', 'p10'])\n",
    "df_pca = pd.concat([y, df_pca], axis=1)\n",
    "print(df_pca.head)\n",
    "df_pca.to_csv('CreditCardPCAAutoML.csv', index=False)\n"
   ]
  }
 ],
 "metadata": {
  "kernelspec": {
   "display_name": "Python 3",
   "language": "python",
   "name": "python3"
  },
  "language_info": {
   "codemirror_mode": {
    "name": "ipython",
    "version": 3
   },
   "file_extension": ".py",
   "mimetype": "text/x-python",
   "name": "python",
   "nbconvert_exporter": "python",
   "pygments_lexer": "ipython3",
   "version": "3.7.4"
  },
  "pycharm": {
   "stem_cell": {
    "cell_type": "raw",
    "source": [],
    "metadata": {
     "collapsed": false
    }
   }
  }
 },
 "nbformat": 4,
 "nbformat_minor": 1
}