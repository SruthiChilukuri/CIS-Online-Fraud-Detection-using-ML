{
 "cells": [
  {
   "cell_type": "code",
   "execution_count": 8,
   "metadata": {
    "collapsed": true,
    "pycharm": {
     "is_executing": false
    }
   },
   "outputs": [],
   "source": [
    "from sklearn import preprocessing\n",
    "from sklearn.decomposition import PCA\n",
    "from db.mysql import Engine\n",
    "import pandas as pd\n",
    "import matplotlib.pyplot as plt\n",
    "import numpy as np\n",
    "\n",
    "db_conn = Engine.get_db_conn()\n",
    "\n",
    "# Courtesy of https://www.kaggle.com/gemartin/load-data-reduce-memory-usage\n",
    "# This function help to minimize the memory needed to run this notebook. \n",
    "\n",
    "def reduce_mem_usage(df, verbose=True):\n",
    "    numerics = ['int16', 'int32', 'int64', 'float16', 'float32', 'float64']\n",
    "    start_mem = df.memory_usage(deep=True).sum() / 1024**2\n",
    "    for col in df.columns:\n",
    "        col_type = df[col].dtypes\n",
    "        if col_type in numerics:\n",
    "            c_min = df[col].min()\n",
    "            c_max = df[col].max()\n",
    "            if str(col_type)[:3] == 'int':\n",
    "                if c_min > np.iinfo(np.int8).min and c_max < np.iinfo(np.int8).max:\n",
    "                    df[col] = df[col].astype(np.int8)\n",
    "                elif c_min > np.iinfo(np.int16).min and c_max < np.iinfo(np.int16).max:\n",
    "                    df[col] = df[col].astype(np.int16)\n",
    "                elif c_min > np.iinfo(np.int32).min and c_max < np.iinfo(np.int32).max:\n",
    "                    df[col] = df[col].astype(np.int32)\n",
    "                elif c_min > np.iinfo(np.int64).min and c_max < np.iinfo(np.int64).max:\n",
    "                    df[col] = df[col].astype(np.int64)\n",
    "            else:\n",
    "                c_prec = df[col].apply(lambda x: np.finfo(x).precision).max()\n",
    "                if c_min > np.finfo(np.float32).min and c_max < np.finfo(np.float32).max and c_prec == np.finfo(np.float32).precision:\n",
    "                    df[col] = df[col].astype(np.float32)\n",
    "                else:\n",
    "                    df[col] = df[col].astype(np.float64)\n",
    "    end_mem = df.memory_usage(deep=True).sum() / 1024**2\n",
    "    if verbose: print('Mem. usage decreased to {:5.2f} Mb ({:.1f}% reduction)'.format(end_mem, 100 * (start_mem - end_mem) / start_mem))\n",
    "    return df"
   ]
  },
  {
   "cell_type": "code",
   "execution_count": 9,
   "outputs": [
    {
     "name": "stdout",
     "text": [
      "Mem. usage decreased to 35.69 Mb (0.6% reduction)\n",
      "Mem. usage decreased to 33.81 Mb (0.4% reduction)\n(9875, 365)\n(9221, 364)\n"
     ],
     "output_type": "stream"
    }
   ],
   "source": [
    "train = pd.read_sql('train_cleaned', db_conn)\n",
    "test = pd.read_sql('test_cleaned', db_conn)\n",
    "\n",
    "train = reduce_mem_usage(train)\n",
    "test = reduce_mem_usage(test)\n",
    "\n",
    "print(train.shape)\n",
    "print(test.shape)"
   ],
   "metadata": {
    "collapsed": false,
    "pycharm": {
     "name": "#%%\n",
     "is_executing": false
    }
   }
  },
  {
   "cell_type": "code",
   "execution_count": 10,
   "outputs": [
    {
     "data": {
      "image/png": "[encoded data removed]",
      "text/plain": "<Figure size 1080x360 with 1 Axes>"
     },
     "metadata": {
      "needs_background": "light"
     },
     "output_type": "display_data"
    },
    {
     "name": "stdout",
     "text": [
      "Total span of the records is 215.1166898148148\nTotal span of the train records is 2.5786921296296295\nTotal span of the test records is 3.116412037037037\n"
     ],
     "output_type": "stream"
    }
   ],
   "source": [
    "# Lets check the distribution of given train and test data\n",
    "train['TransactionDT'].plot(kind='hist',figsize=(15, 5),label='train', bins=50,\n",
    "                                        title='Train vs Test TransactionDT')\n",
    "test['TransactionDT'].plot(kind='hist',label='test', bins=50)\n",
    "plt.legend()\n",
    "plt.show()\n",
    "# We can see above that the test data doesn't have overlap with train data. So we may need to use\n",
    "# time based spit for validation\n",
    "\n",
    "trainDT_min = train['TransactionDT'].values.min()\n",
    "trainDT_max = train['TransactionDT'].values.max()\n",
    "\n",
    "testDT_min = test['TransactionDT'].values.min()\n",
    "testDT_max = test['TransactionDT'].values.max()\n",
    "\n",
    "print('Total span of the records is {}'.format((testDT_max - trainDT_min)/(24 * 60 * 60)))\n",
    "print('Total span of the train records is {}'.format((trainDT_max - trainDT_min)/(24 * 60 * 60)))\n",
    "print('Total span of the test records is {}'.format((testDT_max - testDT_min)/(24 * 60 * 60)))"
   ],
   "metadata": {
    "collapsed": false,
    "pycharm": {
     "name": "#%%\n",
     "is_executing": false
    }
   }
  },
  {
   "cell_type": "code",
   "execution_count": 11,
   "metadata": {
    "pycharm": {
     "is_executing": false,
     "name": "#%%\n"
    }
   },
   "outputs": [
    {
     "name": "stdout",
     "text": [
      "(9875, 393)\n(9221, 392)\n"
     ],
     "output_type": "stream"
    }
   ],
   "source": [
    "# Lets try to extract new features for card features as they are categorical\n",
    "# We can use transform in conjunction with groupby. The data point we would to like capture here answer the following question.\n",
    "# \"What percentage of TransactionAmount mean per category does each card feature represent?\" \n",
    "for col in ['card1','card2','card4','card5','card6']:\n",
    "    train['TransactionAmt_mean_to_'+str(col)]=(train['TransactionAmt']/train.groupby(col)['TransactionAmt'].transform('mean'))\n",
    "    train['TransactionAmt_std_to_'+str(col)]=(train['TransactionAmt']/train.groupby(col)['TransactionAmt'].transform('std'))\n",
    "    test['TransactionAmt_mean_to_'+str(col)]=(test['TransactionAmt']/test.groupby(col)['TransactionAmt'].transform('mean'))\n",
    "    test['TransactionAmt_std_to_'+str(col)]=(test['TransactionAmt']/test.groupby(col)['TransactionAmt'].transform('std'))\n",
    "\n",
    "# We can perform similar feature engineering on other categorical columns like \n",
    "for col in ['ProductCD', 'P_emaildomain','R_emaildomain','DeviceType','DeviceInfo','id_15','id_30','id_31','id_34']:\n",
    "    train['TransactionAmt_mean_to_'+str(col)]=(train['TransactionAmt']/train.groupby(col)['TransactionAmt'].transform('mean'))\n",
    "    train['TransactionAmt_std_to_'+str(col)]=(train['TransactionAmt']/train.groupby(col)['TransactionAmt'].transform('std'))\n",
    "    test['TransactionAmt_mean_to_'+str(col)]=(test['TransactionAmt']/test.groupby(col)['TransactionAmt'].transform('mean'))\n",
    "    test['TransactionAmt_std_to_'+str(col)]=(test['TransactionAmt']/test.groupby(col)['TransactionAmt'].transform('std'))\n",
    "\n",
    "print(train.shape)\n",
    "print(test.shape)"
   ]
  },
  {
   "cell_type": "code",
   "execution_count": 12,
   "metadata": {
    "pycharm": {
     "is_executing": false,
     "name": "#%%\n"
    }
   },
   "outputs": [
    {
     "name": "stdout",
     "text": [
      "<class 'pandas.core.frame.DataFrame'>\nRangeIndex: 9875 entries, 0 to 9874\nColumns: 393 entries, TransactionID to TransactionAmt_std_to_id_34\ndtypes: float64(360), int16(1), int32(2), int8(1), object(29)\nmemory usage: 29.4+ MB\nNone\n"
     ],
     "output_type": "stream"
    }
   ],
   "source": [
    "# Lets check how many categorical attributes exist\n",
    "print(train.info())\n",
    "\n",
    "# Lets fill all missing values with Nan\n",
    "train.fillna(value=pd.np.nan, inplace=True)\n",
    "test.fillna(value=pd.np.nan, inplace=True)\n",
    "\n",
    "train['P_emaildomain'] = train['P_emaildomain'].str.split(\".\").str.get(0)\n",
    "test['P_emaildomain'] = test['P_emaildomain'].str.split(\".\").str.get(0)\n",
    "train['P_emaildomain'] = train['P_emaildomain'].str.split(\".\").str.get(0)\n",
    "test['R_emaildomain'] = test['R_emaildomain'].str.split(\".\").str.get(0)"
   ]
  },
  {
   "cell_type": "code",
   "execution_count": 13,
   "metadata": {
    "pycharm": {
     "is_executing": false,
     "name": "#%%\n"
    }
   },
   "outputs": [],
   "source": [
    "# From Info we can see that there are 29 Categorical columns\n",
    "# Lets use LabelEncoder to convert them into numeric columns\n",
    "# Label Encoding\n",
    "from sklearn  import preprocessing\n",
    "import numpy as np \n",
    "\n",
    "# Lets try to see the value counts of each category variable\n",
    "# for col in train.columns:\n",
    "#     if train[col].dtype == 'object':\n",
    "#         print(train[col].value_counts())\n",
    "        \n",
    "for col in train.columns:\n",
    "    if train[col].dtype == 'object':\n",
    "        lbe = preprocessing.LabelEncoder()\n",
    "        lbe.fit(list(train[col].values) + list(test[col].values))\n",
    "        train[col] =lbe.transform(list(train[col].values))\n",
    "        test[col]=lbe.transform(list(test[col].values))\n",
    "\n",
    "def replace_inf_with_nan(df):\n",
    "    return df.replace([np.inf, -np.inf], np.nan)   \n",
    "\n",
    "train = replace_inf_with_nan(train)\n",
    "test = replace_inf_with_nan(test) "
   ]
  },
  {
   "cell_type": "code",
   "execution_count": 14,
   "metadata": {
    "pycharm": {
     "is_executing": false,
     "name": "#%%\n"
    }
   },
   "outputs": [
    {
     "name": "stdout",
     "text": [
      "0\n0\n"
     ],
     "output_type": "stream"
    }
   ],
   "source": [
    "# Lets impute all other column missing values with the median of that columns. \n",
    "# We haven't considered mean, because it sensitive to outliers.\n",
    "\n",
    "for col in train.columns:\n",
    "    train[col].fillna(train[col].median(),inplace=True) # fill with median because mean may be affect by outliers.\n",
    "\n",
    "for col in test.columns:\n",
    "    test[col].fillna(test[col].median(),inplace=True)\n",
    "\n",
    "# Lets finally check the sum of nan/missing values should be zero\n",
    "print(train.isnull().sum().sum())\n",
    "print(test.isnull().sum().sum())"
   ]
  },
  {
   "cell_type": "code",
   "execution_count": 15,
   "metadata": {
    "pycharm": {
     "is_executing": false,
     "name": "#%%\n"
    }
   },
   "outputs": [
    {
     "name": "stdout",
     "text": [
      "Saved to Db\n"
     ],
     "output_type": "stream"
    }
   ],
   "source": [
    "# Save the final dataset to Database\n",
    "db_conn = Engine.get_db_conn()\n",
    "train.to_sql('train_final', db_conn, index=False)\n",
    "test.to_sql('test_final', db_conn, index=False)\n",
    "print(\"Saved to Db\")\n",
    "# train.to_csv('CreditCardAutoML.csv', index=False)"
   ]
  },
  {
   "cell_type": "code",
   "execution_count": 16,
   "metadata": {
    "pycharm": {
     "is_executing": false,
     "name": "#%%\n"
    }
   },
   "outputs": [
    {
     "name": "stdout",
     "text": [
      "(9875, 392)\n   TransactionAmt  ProductCD  card1  card2  card4  card5  card6  addr1  dist1  \\\n0            68.5          4  13926  327.0      1  142.0      0  315.0   19.0   \n1            29.0          4   2755  404.0      2  102.0      0  325.0    8.0   \n2            59.0          4   4663  490.0      4  166.0      1  330.0  287.0   \n3            50.0          4  18132  567.0      2  117.0      1  476.0    8.0   \n4            50.0          1   4497  514.0      2  102.0      0  420.0    8.0   \n\n   P_emaildomain  ...  TransactionAmt_mean_to_DeviceInfo  \\\n0             26  ...                            0.75452   \n1             16  ...                            0.75452   \n2             29  ...                            0.75452   \n3             43  ...                            0.75452   \n4             16  ...                            1.00000   \n\n   TransactionAmt_std_to_DeviceInfo  TransactionAmt_mean_to_id_15  \\\n0                          0.728665                      0.721577   \n1                          0.728665                      0.721577   \n2                          0.728665                      0.721577   \n3                          0.728665                      0.721577   \n4                          0.728665                      0.724072   \n\n   TransactionAmt_std_to_id_15  TransactionAmt_mean_to_id_30  \\\n0                     0.689176                      0.681818   \n1                     0.689176                      0.681818   \n2                     0.689176                      0.681818   \n3                     0.689176                      0.681818   \n4                     0.730765                      0.413559   \n\n   TransactionAmt_std_to_id_30  TransactionAmt_mean_to_id_31  \\\n0                     0.860392                      0.708281   \n1                     0.860392                      0.708281   \n2                     0.860392                      0.708281   \n3                     0.860392                      0.708281   \n4                     0.387487                      0.580977   \n\n   TransactionAmt_std_to_id_31  TransactionAmt_mean_to_id_34  \\\n0                     0.791715                      0.578797   \n1                     0.791715                      0.578797   \n2                     0.791715                      0.578797   \n3                     0.791715                      0.578797   \n4                     0.673725                      0.564691   \n\n   TransactionAmt_std_to_id_34  \n0                     0.672746  \n1                     0.672746  \n2                     0.672746  \n3                     0.672746  \n4                     0.560801  \n\n[5 rows x 390 columns]\n",
      "[6.47381026e-01 3.45993672e-01 3.64325127e-03 1.78100097e-03\n 6.58063035e-04 3.24130977e-04 6.69985255e-05 2.80057629e-05\n 1.72238917e-05 1.54034935e-05]\n<bound method NDFrame.head of       isFraud             p1             p2           p3          p4  \\\n0           0   -6862.641240  -13106.917948  4136.651286 -225.170876   \n1           0   -6858.675654  -13141.195647 -7033.413559  -35.977003   \n2           0   -6859.411305  -13135.436310 -5125.522293  -68.627503   \n3           0   -6865.200428  -13098.970054  8360.674037 -287.799852   \n4           0  -61915.574370  151758.216103 -5817.754618   61.389768   \n...       ...            ...            ...          ...         ...   \n9870        0   -6861.904743  -13116.580572  1238.638692 -177.296261   \n9871        0   -6860.570775  -13125.932260 -1974.345291 -122.429293   \n9872        0  182939.699570  224004.020201 -2868.008022  -29.039695   \n9873        0   -6860.755105  -13124.894509 -1557.424234 -128.517509   \n9874        0  -45540.583114  -17884.306110  5595.397959 -239.909718   \n\n               p5         p6           p7          p8          p9         p10  \n0     -205.571000 -41.707830    71.742012  -96.944653 -143.020990   20.082428  \n1     -293.218758 -64.673248   114.708003 -109.772570  -55.277552   14.916412  \n2     -306.383379 -60.465173   106.451503  -94.703813  -47.913391   10.989243  \n3     2340.804644 -95.234763 -1144.812555   83.097922 -835.290291   25.314987  \n4      -32.874754 -34.370617    32.978879  -54.980259 -102.795330 -905.975131  \n...           ...        ...          ...         ...         ...         ...  \n9870  -264.232827 -45.626646    79.686102   52.504903    6.737640   -4.615435  \n9871  -324.555341 -52.921269    81.238142  -80.877915  -22.151552   12.711362  \n9872   170.694036 -67.914753     9.850241  108.859914   54.128200  300.163252  \n9873  -175.461519 -55.298201  -342.107412   19.003527 -321.478905    6.932616  \n9874  -410.294152 -24.104016    90.630938 -115.273574  -55.138353   18.857304  \n\n[9875 rows x 11 columns]>\n"
     ],
     "output_type": "stream"
    }
   ],
   "source": [
    "# Lets run PCA and see the variation among components\n",
    "from sklearn.decomposition import PCA\n",
    "from sklearn.preprocessing import StandardScaler\n",
    "y = train['isFraud']\n",
    "X = train.drop(['isFraud'], axis=1)\n",
    "print(X.shape)\n",
    "# print(X.head())\n",
    "\n",
    "# Drop TransactionID and TransactionDT from X\n",
    "X.drop(['TransactionID', 'TransactionDT'], axis=1, inplace=True)\n",
    "\n",
    "scaler = StandardScaler()\n",
    "scaler.fit_transform(X)\n",
    "\n",
    "print(X.head())\n",
    "\n",
    "pca = PCA(n_components=10)\n",
    "X_std_pca = pca.fit_transform(X)\n",
    "print(pca.explained_variance_ratio_)\n",
    "\n",
    "df_pca = pd.DataFrame(X_std_pca, columns=['p1', 'p2', 'p3', 'p4', 'p5', 'p6', 'p7', 'p8', 'p9', 'p10'])\n",
    "df_pca = pd.concat([y, df_pca], axis=1)\n",
    "print(df_pca.head)\n",
    "df_pca.to_csv('CreditCardPCAAutoML.csv', index=False)\n"
   ]
  }
 ],
 "metadata": {
  "kernelspec": {
   "display_name": "Python 3",
   "language": "python",
   "name": "python3"
  },
  "language_info": {
   "codemirror_mode": {
    "name": "ipython",
    "version": 3
   },
   "file_extension": ".py",
   "mimetype": "text/x-python",
   "name": "python",
   "nbconvert_exporter": "python",
   "pygments_lexer": "ipython3",
   "version": "3.7.4"
  },
  "pycharm": {
   "stem_cell": {
    "cell_type": "raw",
    "source": [],
    "metadata": {
     "collapsed": false
    }
   }
  }
 },
 "nbformat": 4,
 "nbformat_minor": 1
}